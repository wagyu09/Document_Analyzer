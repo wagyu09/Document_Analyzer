{
 "cells": [
  {
   "cell_type": "code",
   "execution_count": 60,
   "id": "46c4fa8a",
   "metadata": {},
   "outputs": [],
   "source": [
    "import faiss\n",
    "import os\n",
    "import json\n",
    "import numpy as np\n",
    "\n",
    "files = os.listdir('/home/wagyu0923/project/Document_Analyzer/embedded_files')\n",
    "\n",
    "meta_datas = []\n",
    "embeddings = []\n",
    "\n",
    "for file in files:\n",
    "    with open(f'/home/wagyu0923/project/Document_Analyzer/embedded_files/{file}', 'r') as f:\n",
    "        embedded_text = json.load(f)\n",
    "    \n",
    "    \n",
    "    for data in embedded_text:\n",
    "        meta_data = {}\n",
    "        meta_data['source'] = file\n",
    "        meta_data['page'] = data['page']\n",
    "        meta_data['chunk'] = data['chunk']\n",
    "        meta_datas.append(meta_data)\n",
    "        embeddings.append(data['embedding'])\n",
    "\n",
    "embeddings = np.array(embeddings, dtype = 'float32')\n",
    "\n"
   ]
  },
  {
   "cell_type": "code",
   "execution_count": 61,
   "id": "bb000eb3",
   "metadata": {},
   "outputs": [],
   "source": [
    "dimension = len(embeddings[0])\n",
    "index = faiss.IndexFlatL2(dimension)\n",
    "\n",
    "index.add(embeddings)\n",
    "\n"
   ]
  },
  {
   "cell_type": "code",
   "execution_count": 62,
   "id": "431c87b5",
   "metadata": {},
   "outputs": [],
   "source": [
    "from sentence_transformers import SentenceTransformer\n",
    "\n",
    "model = SentenceTransformer('intfloat/multilingual-e5-large-instruct')\n"
   ]
  },
  {
   "cell_type": "code",
   "execution_count": 70,
   "id": "47c5c2bb",
   "metadata": {},
   "outputs": [],
   "source": [
    "query = input()\n",
    "query_vector = model.encode(query)\n",
    "\n",
    "distances, indices = index.search(np.array([query_vector],dtype = 'float32'), k=5)\n",
    "\n",
    "retrived_data = ''\n",
    "for idx in indices[0]:\n",
    "    temp = str(meta_datas[idx])\n",
    "    retrived_data += temp\n"
   ]
  },
  {
   "cell_type": "code",
   "execution_count": 74,
   "id": "54ec6f32",
   "metadata": {},
   "outputs": [],
   "source": [
    "import ollama\n",
    "\n",
    "OLLAMA_MODEL = 'hf.co/unsloth/gpt-oss-20b-GGUF:Q4_K_M'\n",
    "SYSTEM_PROMPT = f\"\"\"You are an intelligent assistant helping the users with their questions on company. Strictly Use ONLY the following pieces of context to answer the question at the end. \n",
    "\n",
    "Do not try to make up an answer:\n",
    " - 우선 인식된 정보를 정리해서 말할 것\n",
    " - If the answer to the question cannot be determined from the context alone, say \"I cannot determine the answer to that.\" and the reason why you cannot determine\n",
    " - If the context is empty, just say \"I do not know the answer to that.\" \n",
    " - CONTEXT에 주어진 내용을 토대로 추론해서 QUESTION에 근거를 대며 상세히 답할 것.\n",
    " - Answer in Korean\n",
    "CONTEXT: \n",
    "{retrived_data}\n",
    "QUESTION:\n",
    "{query}\n",
    "\"\"\"\n",
    "\n",
    "response = ollama.chat(\n",
    "    model=OLLAMA_MODEL,\n",
    "    messages=[\n",
    "        {'role': 'user', 'content': SYSTEM_PROMPT}\n",
    "    ],\n",
    "    options={\n",
    "        'num_predict': 8192,\n",
    "        'temperature': 0.1,\n",
    "        'repeat_penalty': 1.1,\n",
    "    }\n",
    ")\n",
    "outputs = response['message']['content']"
   ]
  },
  {
   "cell_type": "code",
   "execution_count": 75,
   "id": "f5cf540f",
   "metadata": {},
   "outputs": [
    {
     "name": "stdout",
     "output_type": "stream",
     "text": [
      "세토피아가 직면하고 있는 투자 리스크는 다음과 같이 세 가지로 요약될 수 있습니다.  \n",
      "\n",
      "| # | 리스크 종류 | 근거(문맥) | 구체적 내용 |\n",
      "|---|--------------|------------|------------|\n",
      "| 1 | **유동성(유동성) 리스크** | *page 117* – “부채 유동성 대체 73,070 113,738” | 부채의 유동성 비율이 낮아 단기 채무를 이행하기 어려울 가능성. |\n",
      "| 2 | **규제·법적 리스크** | *page 214* – “과징금 1억7,680만원, 과태료 3억… 과징금 27억원” 등 다수의 벌금·과태료가 부과된 기록 | 자본시장·금융투자업법, 외국환거래법 등 관련 법령 위반 사례가 다수 존재해 향후 추가 제재 가능성. |\n",
      "| 3 | **회계·재무제표 리스크** | *page 214* – “회계처리위반이 확정될 경우 회계장부 및 재무제표를 반영하여 재공시 예정” | 회계처리 부정확인 시 재무제표에 반영될 필요가 있어 재무제표 신뢰성에 대한 리스크. |\n",
      "\n",
      "이 세 가지 리스크는 투자자에게 재무적 안정성, 규제 준수 여부, 그리고 단기 유동성 확보 측면에서 주의적 위험 요소로 작용할 수 있습니다.\n"
     ]
    }
   ],
   "source": [
    "print(outputs)"
   ]
  },
  {
   "cell_type": "code",
   "execution_count": 73,
   "id": "3fad9203",
   "metadata": {},
   "outputs": [
    {
     "name": "stdout",
     "output_type": "stream",
     "text": [
      "{'source': '[세토피아][정정]반기보고서(2025.09.09)_chunk_embedding.json', 'page': 117, 'chunk': '부채 유동성 대체 73,070 113,738'}{'source': '[세토피아][정정]반기보고서(2025.09.09)_chunk_embedding.json', 'page': 70, 'chunk': '942) 비지배지분 - - - 기본주당이익(손실) (354) (358) (442) 희석주당이익(손실) (354) (358) (443) 연결에 포함된 회사수 4 6 6 주식회사 세토피아 (단위 : 원) 과 목 제11(당반)기말 제10(전)기말 제9(전전)기말 [유동자산] 8,536,561,939 10,133,404,461 37,541,162,024 ㆍ현금및현금성자산 457,702,865 182,561,012 4,936,849,113 ㆍ매출채권 1,881,162,022 3,892,987,351 14,037,824,167 ㆍ계약자산 - - 169,161,731 ㆍ단기기타채권 4,462,330,881 2,067,748,000 8,574,471,117 ㆍ기타유동자산 155,254,977 896,980,649 1,203,248,673 ㆍ파생상품자산 57,923,770 190,681,348 520,935,485 ㆍ당기법인세자산 94,950 1,654,500 26,061,520 ㆍ재고자산 1,522,092,474 2,900,791,601 7,726,861,555 ㆍ매각예정자산 - - 345,748,663 [비유동자산] 16,500,806,760 21,121,414,827 31,315,005,805 ㆍ당기손익-공정가치측정금융자산 13,733,387 47,297,225 388,483,452 ㆍ장기기타채권 471,589,000 483,463,000 3,'}{'source': '[세토피아][정정]반기보고서(2025.09.09)_chunk_embedding.json', 'page': 155, 'chunk': '초 발행 상환 등 평가 기타 당반기말'}{'source': '[세토피아][정정]반기보고서(2025.09.09)_chunk_embedding.json', 'page': 214, 'chunk': '804) 및 집행정지신청(2025아11501)을 제기하였습니다 행정소송결과에 따라 회계처리위반이 확정될 경우 지적사항에 대한 회계장부 및 재무제표를 반영하여 재공시 예정입니다 나 한국거래소 등으로부터 받은 제재 일자 제재기관 대상자 처벌 또는 조치 내용 금전적 제재금액 사유 근거법령 20250120 (*1) 증권선물위원회 (주)세토피아 과징금 과징금 1억7,680만원 상장법인 등의 신고·공시의무 위반 자본시장과 금융투자업에 관한 법률 제161조 등 20250312 (*2) 증권선물위원회 (주)세토피아 1 과징금 2 과태료 3 감사인지정 3년 4 면직권고 5 지적사항 회계장부 및 재무제표 반영 6 검찰통보 1 과징금 27억원 2 과태료 1억원 1 금융자산·부채 과대계상 (2019년 8,000백만원) 2 영업활동 현금흐름 과대계상 (2019년 7,000백만원) 주식회사 등의 외부감사에 관한 법률제26조 등 20250331 금융감독원 (주)세토피아 과태료 1,000만원 외국환거래법 위반 외국환거래법 제18조 및 외국환거래규정 제7-31조 20250428 증권선물위원회 (주)세토피아 증권발행제한 6개월 (20250428~20251027) - 2019년 사업보고서 지연 제출 - 제출기한 : 20200515 - 제출일자 : 20200525 자본시장과 금융투자업에 관한 법률 제159조 등 제재 조치일 조치기관 조치대상자 조치내용 사유 및 근거법령'}{'source': '[세토피아][정정]반기보고서(2025.09.09)_chunk_embedding.json', 'page': 207, 'chunk': ' 5명의 개인별 보수현황>'}\n"
     ]
    }
   ],
   "source": [
    "print(retrived_data)"
   ]
  }
 ],
 "metadata": {
  "kernelspec": {
   "display_name": "exaone",
   "language": "python",
   "name": "python3"
  },
  "language_info": {
   "codemirror_mode": {
    "name": "ipython",
    "version": 3
   },
   "file_extension": ".py",
   "mimetype": "text/x-python",
   "name": "python",
   "nbconvert_exporter": "python",
   "pygments_lexer": "ipython3",
   "version": "3.11.13"
  }
 },
 "nbformat": 4,
 "nbformat_minor": 5
}
