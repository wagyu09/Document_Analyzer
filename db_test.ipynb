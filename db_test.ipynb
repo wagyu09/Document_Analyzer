{
 "cells": [
  {
   "cell_type": "code",
   "execution_count": 61,
   "id": "74ccc48a",
   "metadata": {},
   "outputs": [],
   "source": [
    "import chromadb\n",
    "from sentence_transformers import SentenceTransformer\n",
    "from chromadb.utils import embedding_functions\n",
    "\n",
    "\n",
    "embedding_model = embedding_functions.SentenceTransformerEmbeddingFunction(\n",
    "    model_name=\"intfloat/multilingual-e5-large-instruct\"\n",
    ")\n",
    "\n",
    "client = chromadb.PersistentClient(path=\"chroma_db\")\n",
    "collection = client.get_or_create_collection(\n",
    "    name=\"documents_collection\",\n",
    "    embedding_function=embedding_model\n",
    ")\n",
    "\n"
   ]
  },
  {
   "cell_type": "code",
   "execution_count": 62,
   "id": "46c4fa8a",
   "metadata": {},
   "outputs": [],
   "source": [
    "import os\n",
    "import json\n",
    "import numpy as np\n",
    "\n",
    "\n",
    "files = os.listdir('/home/wagyu0923/project/Document_Analyzer/embedded_files')\n",
    "\n",
    "ids = []\n",
    "meta_datas = []\n",
    "embeddings = []\n",
    "chunks = []\n",
    "\n",
    "for file in files:\n",
    "    with open(f'/home/wagyu0923/project/Document_Analyzer/embedded_files/{file}', 'r') as f:\n",
    "        embedded_text = json.load(f)\n",
    "    \n",
    "    \n",
    "    for idx, data in enumerate(embedded_text):\n",
    "        meta_data = {}\n",
    "        meta_data['source'] = file\n",
    "        meta_data['page'] = data['page']\n",
    "        meta_datas.append(meta_data)\n",
    "\n",
    "        chunks.append(data['chunk'])\n",
    "\n",
    "        embeddings.append(data['embedding'])\n",
    "\n",
    "        ids.append(f'{file}_chunk_{idx}')\n",
    "\n",
    "\n",
    "collection.add(\n",
    "    embeddings = embeddings,\n",
    "    metadatas = meta_datas,\n",
    "    ids = ids,\n",
    "    documents=chunks\n",
    ")\n"
   ]
  },
  {
   "cell_type": "code",
   "execution_count": 125,
   "id": "47c5c2bb",
   "metadata": {},
   "outputs": [],
   "source": [
    "query = input()\n",
    "\n",
    "collected_data = collection.query(\n",
    "    query_texts= [query],\n",
    "    n_results=7,\n",
    ")\n",
    "retrived_data = ''\n",
    "\n",
    "for meta, chunk in zip(collected_data['metadatas'][0], collected_data['documents'][0]):\n",
    "    source = meta['source']\n",
    "    page = meta['page']\n",
    "    retrived_data += f'source : {source}, page : {page}, \\n content : {chunk} \\n\\n'"
   ]
  },
  {
   "cell_type": "code",
   "execution_count": 126,
   "id": "54ec6f32",
   "metadata": {},
   "outputs": [],
   "source": [
    "import ollama\n",
    "\n",
    "OLLAMA_MODEL = 'gpt-oss:20b'\n",
    "SYSTEM_PROMPT = f\"\"\"You are an expert financial analyst. Your goal is to provide a clear and well-supported answer based *only* on the provided context.\n",
    "\n",
    "**Instructions:**\n",
    "1.  **Analyze and Synthesize:** Carefully analyze the user's QUESTION and the provided CONTEXT. Synthesize the information to infer a comprehensive answer.\n",
    "2.  **Cite Sources:** For every piece of information or claim in your answer, you **must cite the specific `source` and `page`** it came from. For example: \"The company was fined 2.7 billion won (Source: filename.json, Page: 214).\"\n",
    "3.  **Adhere to Context:** Base your answer **strictly** on the information within the CONTEXT. Do not use any outside knowledge.\n",
    "4.  **Handle Missing Information:** If the CONTEXT does not contain enough information to answer the question, state that you cannot provide an answer based on the given documents.\n",
    "5.  **Language:** Respond in Korean.\n",
    "\n",
    "**CONTEXT:** {retrived_data}\n",
    "\n",
    "**QUESTION:**\n",
    "{query}\n",
    "\"\"\"\n",
    "\n",
    "response = ollama.chat(\n",
    "    model=OLLAMA_MODEL,\n",
    "    messages=[\n",
    "        {'role': 'user', 'content': SYSTEM_PROMPT}\n",
    "    ],\n",
    "    options={\n",
    "\n",
    "        'temperature': 0.1,\n",
    "        'repeat_penalty': 1.1,\n",
    "        'seed' : 42\n",
    "    }\n",
    ")\n",
    "outputs = response['message']['content']"
   ]
  },
  {
   "cell_type": "code",
   "execution_count": 108,
   "id": "13c171cf",
   "metadata": {},
   "outputs": [],
   "source": [
    "import ollama\n",
    "\n",
    "OLLAMA_MODEL = 'gpt-oss:20b'\n",
    "SYSTEM_PROMPT = f\"\"\"\n",
    "컨텍스트 내용 정리해서 한국어로 답변 \n",
    "CONTEXT: \n",
    "{retrived_data}\n",
    "\"\"\"\n",
    "\n",
    "response = ollama.chat(\n",
    "    model=OLLAMA_MODEL,\n",
    "    messages=[\n",
    "        {'role': 'user', 'content': SYSTEM_PROMPT}\n",
    "    ],\n",
    "    options={\n",
    "\n",
    "        'temperature': 0.1,\n",
    "        'repeat_penalty': 1.1,\n",
    "    }\n",
    ")\n",
    "outputs2 = response['message']['content']"
   ]
  },
  {
   "cell_type": "code",
   "execution_count": 127,
   "id": "f5cf540f",
   "metadata": {},
   "outputs": [
    {
     "name": "stdout",
     "output_type": "stream",
     "text": [
      "세토피아가 (주)제이슨앤컴퍼니를 합병한 주된 목적은 **철강전문기업과의 합병을 통해 신규 사업 진출과 매출 확대, 손익 구조 개선을 실현하여 기업가치와 주주가치를 제고**하는 데 있었습니다.  \n",
      "(출처: 세토피아 반기보고서, 2025.09.09, 페이지 16)  \n",
      "\n",
      "이 합병으로 인해 세토피아는 기존 사업에 **철강 전문 사업**을 추가하게 되어, 주된 사업 포트폴리오가 확장되었습니다. 즉, 세토피아는 (주)제이슨앤컴퍼니가 보유하고 있던 철강 전문 역량과 제품·서비스를 인수함으로써, 기존 사업 영역에 더해 철강 산업에 대한 진출과 매출 기반을 강화하게 됩니다.  \n",
      "(출처: 세토피아 반기보고서, 2025.09.09, 페이지 16)\n"
     ]
    }
   ],
   "source": [
    "print(outputs)"
   ]
  },
  {
   "cell_type": "code",
   "execution_count": 128,
   "id": "3fad9203",
   "metadata": {},
   "outputs": [
    {
     "name": "stdout",
     "output_type": "stream",
     "text": [
      "source : [세토피아][정정]반기보고서(2025.09.09)_chunk_embedding.json, page : 20, \n",
      " content : 합병으 로 인해 지급한 별도의 합병 교부금도 없습니다 본 합병 완료 후 (주)세토피아의 최대주주 변경은 없습니다 Ⅶ [합병등] 전ㆍ후의 요약재무정보 (단위 : 원) 구분 합병 전 합병 후 (주)세토피아 [합병회사] (주)제이슨앤컴퍼 니 [피합병회사] (주)세토피아 [합병 후 존속회사 ] 자산 Ⅰ 유동자산 17,256,827,953 21,897,369,048 32,338,897,275 \n",
      "\n",
      "source : [세토피아][정정]반기보고서(2025.09.09)_chunk_embedding.json, page : 20, \n",
      " content : 니다 Ⅵ 신주배정 등에 관한 사항 합병법인 (주)세토피아는 피합병법인 (주)제이슨앤컴퍼니의 지분을 100% 보유하고 있으며, 본 합병 완료 시 (주)세토피아는 존속회사로 계속 남아 있게 되며, 피합병법인 (주)제이슨앤컴퍼니는 해산하 여 소멸하게 됩니다 합병법인 (주)세토피아는 본 합병을 함에있어 신주를 발행하지 않으며, 합병으 로 인해 지급한 별도의 합병 교부금도 없습니다 본 합병 완료 후 (주)세토피아의 최대주주 변경은 없습니다 Ⅶ [합병등] \n",
      "\n",
      "source : [세토피아][정정]반기보고서(2025.09.09)_chunk_embedding.json, page : 16, \n",
      " content : 1 합병방법 ㈜세토피아가 ㈜제이슨앤컴퍼니를 흡수합병 1) 존속회사: ㈜세토피아 2) 소멸회사: ㈜제이슨앤컴퍼니 - 합병형태 소규모합병 2 합병목적 철강전문기업과의 합병을 통한 신규사업 진출 및 매출확대, 손익구조 개선을 통한 기업가치 제고 및 주주가치 제고 3 합병의 중요영향 및 효과 (1) 회사의 경영에 미치는 영향 본 보고서 제출일 현재 합병법인인 (주)세토피아 는 피합병법인인 (주)제이슨앤컴퍼니의 발행주식 을 100% 소유하고 있으며, 합 \n",
      "\n",
      "source : [세토피아][정정]반기보고서(2025.09.09)_chunk_embedding.json, page : 19, \n",
      " content : 음할 예정입니다 (3) 합병계약 체결일로부터 합병등기일까지 사이에 관계기관과의 협의 및 관계기관의 요구, 본 계약 체결일 당 시 예견할 수 없었던 천재지변, 경제상황의 급격한 변동, 기타 본 계약을 변경할 필요성이 있는 사정변경이 발 생한 경우, (주)세토피아와 (주)제이슨앤컴퍼니는 상호 합의에 의하여 본 계약의 합병조건이나 일정을 변경할 수 있으며, 다만, 이러한 합병조건이나 일정의 변경으로도 본 계약의 목적을 달성할 수 없는 경우 각 당사자 \n",
      "\n",
      "source : [세토피아][정정]반기보고서(2025.09.09)_chunk_embedding.json, page : 16, \n",
      " content :  의 최대주주 변경은 없습니다 4 합병비율 (주)세토피아: (주)제이슨앤컴퍼니= 1:0 - 기업인수목적회사 소멸합병의 경우 기업인수목적회사 마지막 거 래일 종가 대비 합병신주의 상장 당일 기준가격의 배수 - 5 합병비율 산출근거 합병법인인 (주)세토피아는 피합병법인인 (주)제 이슨앤컴퍼니의 주식을 100% 소유하고 있으며, 합병 시 합병회사는 피합병회사의 주식에 대해 신 주를 발행하지 않으므로 합병비율을 1:0으로 산출 하였습니다 6 외부평가에 \n",
      "\n",
      "source : [세토피아][정정]반기보고서(2025.09.09)_chunk_embedding.json, page : 16, \n",
      " content :  보고서 제출일 현재 합병법인인 (주)세토피아 는 피합병법인인 (주)제이슨앤컴퍼니의 발행주식 을 100% 소유하고 있으며, 합병신주를 발행하지 않는 무증자 합병으로 진행합니다 본 합병 완료 시 (주)세토피아는 존속회사로 계속 남아있고 소멸회사인 (주)제이슨앤컴퍼니는 합병 후 해산하게 되며, 본 합병 완료 후 (주)세토피아 의 최대주주 변경은 없습니다 4 합병비율 (주)세토피아: (주)제이슨앤컴퍼니= 1:0 - 기업인수목적회사 소멸합병의 경우 기 \n",
      "\n",
      "source : [세토피아][정정]반기보고서(2025.09.09)_chunk_embedding.json, page : 20, \n",
      " content : 간(2022년 06월 21일 ~ 2022년 07월 22일)동안 존속회사인 (주)세토피아의 채 권자 중 이의를 제출한 채권자는 없었으며, 소멸회사인 (주)제이슨앤컴퍼니의 채권자 중 수협은행의 이의제출로 인하여 차입금을 전액 상환하였습니다 Ⅴ 관련 소송의 현황 본 합병의 효력에 영향을 미칠 수 있는 소송이 제기된 사실이 없습니다 Ⅵ 신주배정 등에 관한 사항 합병법인 (주)세토피아는 피합병법인 (주)제이슨앤컴퍼니의 지분을 100% 보유하고 있으며,  \n",
      "\n",
      "\n"
     ]
    }
   ],
   "source": [
    "print(retrived_data)"
   ]
  }
 ],
 "metadata": {
  "kernelspec": {
   "display_name": "exaone",
   "language": "python",
   "name": "python3"
  },
  "language_info": {
   "codemirror_mode": {
    "name": "ipython",
    "version": 3
   },
   "file_extension": ".py",
   "mimetype": "text/x-python",
   "name": "python",
   "nbconvert_exporter": "python",
   "pygments_lexer": "ipython3",
   "version": "3.11.13"
  }
 },
 "nbformat": 4,
 "nbformat_minor": 5
}
