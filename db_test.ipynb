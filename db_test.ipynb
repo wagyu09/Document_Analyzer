{
 "cells": [
  {
   "cell_type": "code",
   "execution_count": 10,
   "id": "74ccc48a",
   "metadata": {},
   "outputs": [],
   "source": [
    "import chromadb\n",
    "from sentence_transformers import SentenceTransformer\n",
    "from chromadb.utils import embedding_functions\n",
    "\n",
    "\n",
    "embedding_model = embedding_functions.SentenceTransformerEmbeddingFunction(\n",
    "    model_name=\"intfloat/multilingual-e5-large-instruct\"\n",
    ")\n",
    "\n",
    "client = chromadb.PersistentClient(path=\"chroma_db\")\n",
    "collection = client.get_or_create_collection(\n",
    "    name=\"documents_collection\",\n",
    "    embedding_function=embedding_model\n",
    ")\n",
    "\n"
   ]
  },
  {
   "cell_type": "code",
   "execution_count": 11,
   "id": "46c4fa8a",
   "metadata": {},
   "outputs": [],
   "source": [
    "import os\n",
    "import json\n",
    "import numpy as np\n",
    "\n",
    "\n",
    "files = os.listdir('/home/wagyu0923/project/Document_Analyzer/embedded_files')\n",
    "\n",
    "ids = []\n",
    "meta_datas = []\n",
    "embeddings = []\n",
    "chunks = []\n",
    "\n",
    "for file in files:\n",
    "    with open(f'/home/wagyu0923/project/Document_Analyzer/embedded_files/{file}', 'r') as f:\n",
    "        embedded_text = json.load(f)\n",
    "    \n",
    "    \n",
    "    for idx, data in enumerate(embedded_text):\n",
    "        meta_data = {}\n",
    "        meta_data['source'] = file\n",
    "        meta_data['page'] = data['page']\n",
    "        meta_datas.append(meta_data)\n",
    "\n",
    "        chunks.append(data['chunk'])\n",
    "\n",
    "        embeddings.append(data['embedding'])\n",
    "\n",
    "        ids.append(f'{file}_chunk_{idx}')\n",
    "\n",
    "\n",
    "collection.add(\n",
    "    embeddings = embeddings,\n",
    "    metadatas = meta_datas,\n",
    "    ids = ids,\n",
    "    documents=chunks\n",
    ")\n"
   ]
  },
  {
   "cell_type": "code",
   "execution_count": 3,
   "id": "47c5c2bb",
   "metadata": {},
   "outputs": [],
   "source": [
    "query = input()\n",
    "\n",
    "collected_data = collection.query(\n",
    "    query_texts= [query],\n",
    "    n_results=7,\n",
    ")\n",
    "retrived_data = ''\n",
    "\n",
    "for meta, chunk in zip(collected_data['metadatas'][0], collected_data['documents'][0]):\n",
    "    source = meta['source']\n",
    "    page = meta['page']\n",
    "    retrived_data += f'source : {source}, page : {page}, \\n content : {chunk} \\n\\n'"
   ]
  },
  {
   "cell_type": "code",
   "execution_count": null,
   "id": "54ec6f32",
   "metadata": {},
   "outputs": [],
   "source": [
    "import ollama\n",
    "\n",
    "OLLAMA_MODEL = 'gpt-oss:20b'\n",
    "SYSTEM_PROMPT = f\"\"\"You are an expert financial analyst. Your goal is to provide a clear and well-supported answer based *only* on the provided context.\n",
    "\n",
    "**Instructions:**\n",
    "1.  **Analyze and Synthesize:** Carefully analyze the user's QUESTION and the provided CONTEXT. Synthesize the information to infer a comprehensive answer.\n",
    "2.  **Cite Sources:** For every piece of information or claim in your answer, you **must cite the specific `source` and `page`** it came from. For example: \"The company was fined 2.7 billion won (Source: filename.json, Page: 214).\"\n",
    "3.  **Adhere to Context:** Base your answer **strictly** on the information within the CONTEXT. Do not use any outside knowledge.\n",
    "4.  **Handle Missing Information:** If the CONTEXT does not contain enough information to answer the question, state that you cannot provide an answer based on the given documents.\n",
    "5.  **Language:** Respond in Korean.\n",
    "\n",
    "**CONTEXT:** {retrived_data}\n",
    "\n",
    "**QUESTION:**\n",
    "{query}\n",
    "\"\"\"\n",
    "\n",
    "response = ollama.chat(\n",
    "    model=OLLAMA_MODEL,\n",
    "    messages=[\n",
    "        {'role': 'user', 'content': SYSTEM_PROMPT}\n",
    "    ],\n",
    "    options={\n",
    "\n",
    "        'temperature': 0.0,\n",
    "        'repeat_penalty': 1.1,\n",
    "        'seed' : 42\n",
    "    }\n",
    ")\n",
    "outputs = response['message']['content']"
   ]
  },
  {
   "cell_type": "code",
   "execution_count": 9,
   "id": "f5cf540f",
   "metadata": {},
   "outputs": [
    {
     "name": "stdout",
     "output_type": "stream",
     "text": [
      "**세토피아의 투자 리스크 요약**\n",
      "\n",
      "| 리스크 항목 | 구체적 내용 | 근거 |\n",
      "|-------------|-------------|------|\n",
      "| **규제·법적 제재** | • 2025년 1월 20일, 증권선물위원회 과징금 1억 7,680만원(상장법인 신고·공시 의무 위반) <br>• 2025년 3월 12일, 증권선물위원회 과징금 27억원·과태료 1억원(회계장부·재무제표 반영 미흡 등) <br>• 2025년 3월 31일, 금융감독원 과태료 1,000만원(외국환거래법 위반) <br>• 2025년 4월 28일, 증권선물위원회 증권발행제한 6개월(2025‑04‑28~2025‑10‑27) | (Source: 세토피아 반기보고서, page 214) |\n",
      "| **법적 소송·손해배상** | • 서울중앙지방법원 1심 손해배상 730,000원 <br>• 2심 전환사채금 2,180,000원 | (Source: 세토피아 반기보고서, page 124) |\n",
      "| **보고서 제출 지연** | • 2019 사업보고서 제출 기한(2020‑05‑15) 이후 10일 지연(2020‑05‑25) | (Source: 세토피아 반기보고서, page 214) |\n",
      "| **재무 성과 부진** | • 2025년 1분기(전기 대비) 기본주당이익(손실) -354원, 희석주당이익(손실) -354원 <br>• 2024년 1분기(전기 대비) 기본주당이익(손실) -358원, 희석주당이익(손실) -358원 | (Source: 세토피아 반기보고서, page 70) |\n",
      "| **자본 구조 및 지분 구조** | • 비지배지분이 없으며, 지배기업 소유주 지분이 5,391,891,821원(전기 대비 26,894,275,816원)으로 변동이 큼 | (Source: 세토피아 반기보고서, page 70) |\n",
      "\n",
      "### 주요 리스크 해석\n",
      "\n",
      "1. **규제·법적 제재**  \n",
      "   - 다수의 과징금·과태료가 부과되었으며, 증권발행제한이 6개월간 적용되는 등 규제 위험이 지속적으로 존재합니다. 이는 자본 조달 및 주가에 부정적 영향을 미칠 수 있습니다.\n",
      "\n",
      "2. **법적 소송·손해배상**  \n",
      "   - 현재 진행 중인 소송과 손해배상 청구가 재무에 추가 부담을 줄 수 있으며, 판결 결과에 따라 손실 규모가 확대될 가능성이 있습니다.\n",
      "\n",
      "3. **보고서 제출 지연**  \n",
      "   - 과거에 사업보고서 제출이 지연된 사례가 있어 내부 통제·컴플라이언스 체계에 대한 신뢰도가 낮아질 수 있습니다.\n",
      "\n",
      "4. **재무 성과 부진**  \n",
      "   - 연속적인 손실(주당이익이 음수)과 부정적 재무 지표는 기업의 수익성 및 성장 가능성에 대한 우려를 증폭시킵니다.\n",
      "\n",
      "5. **자본 구조**  \n",
      "   - 비지배지분이 없고 지배주주의 지분 변동이 크므로, 지배구조와 경영권에 대한 불확실성이 존재합니다.\n",
      "\n",
      "---\n",
      "\n",
      "**투자 결정을 내리실 때는 위와 같은 리스크를 충분히 고려하시고, 추가적인 재무·경영 분석 자료를 확보하시는 것을 권장드립니다.**\n"
     ]
    }
   ],
   "source": [
    "print(outputs)"
   ]
  },
  {
   "cell_type": "code",
   "execution_count": 8,
   "id": "3fad9203",
   "metadata": {},
   "outputs": [
    {
     "name": "stdout",
     "output_type": "stream",
     "text": [
      "source : [세토피아][정정]반기보고서(2025.09.09)_chunk_embedding.json, page : 214, \n",
      " content : 료 1,000만원 외국환거래법 위반 외국환거래법 제18조 및 외국환거래규정 제7-31조 20250428 증권선물위원회 (주)세토피아 증권발행제한 6개월 (20250428~20251027) - 2019년 사업보고서 지연 제출 - 제출기한 : 20200515 - 제출일자 : 20200525 자본시장과 금융투자업에 관한 법률 제159조 등 제재 조치일 조치기관 조치대상자 조치내용 사유 및 근거법령 조치에 대한 이행현황 재발방지를 위한 대책 2023- \n",
      "\n",
      "source : [세토피아][정정]반기보고서(2025.09.09)_chunk_embedding.json, page : 124, \n",
      " content :  (주)세토피아 서울중앙지방법원 730,000 손해배상 1심 계류중 박** (주)세토피아 서울중앙지방법원 2,180,000 전환사채금 2심 계류중(*) \n",
      "\n",
      "source : [세토피아][정정]반기보고서(2025.09.09)_chunk_embedding.json, page : 214, \n",
      " content :  제재기관 대상자 처벌 또는 조치 내용 금전적 제재금액 사유 근거법령 20250120 (*1) 증권선물위원회 (주)세토피아 과징금 과징금 1억7,680만원 상장법인 등의 신고·공시의무 위반 자본시장과 금융투자업에 관한 법률 제161조 등 20250312 (*2) 증권선물위원회 (주)세토피아 1 과징금 2 과태료 3 감사인지정 3년 4 면직권고 5 지적사항 회계장부 및 재무제표 반영 6 검찰통보 1 과징금 27억원 2 과태료 1억원 1 금융자산· \n",
      "\n",
      "source : [세토피아][정정]반기보고서(2025.09.09)_chunk_embedding.json, page : 214, \n",
      " content : 지정 3년 4 면직권고 5 지적사항 회계장부 및 재무제표 반영 6 검찰통보 1 과징금 27억원 2 과태료 1억원 1 금융자산·부채 과대계상 (2019년 8,000백만원) 2 영업활동 현금흐름 과대계상 (2019년 7,000백만원) 주식회사 등의 외부감사에 관한 법률제26조 등 20250331 금융감독원 (주)세토피아 과태료 1,000만원 외국환거래법 위반 외국환거래법 제18조 및 외국환거래규정 제7-31조 20250428 증권선물위원회 (주)세 \n",
      "\n",
      "source : [세토피아][정정]반기보고서(2025.09.09)_chunk_embedding.json, page : 70, \n",
      " content : ) 지배기업의 소유주 지분 (5,391,891,821) (26,894,275,816) (30,037,159,942) 비지배지분 - - - 기본주당이익(손실) (354) (358) (442) 희석주당이익(손실) (354) (358) (443) 연결에 포함된 회사수 4 6 6 주식회사 세토피아 (단위 : 원) 과 목 제11(당반)기말 제10(전)기말 제9(전전)기말 [유동자산] 8,536,561,939 10,133,404,461 37,541,162 \n",
      "\n",
      "source : [세토피아][정정]반기보고서(2025.09.09)_chunk_embedding.json, page : 26, \n",
      " content : 체 사업목적 정비 및 사업다각화2022년 08월 01일 제8기 임시주주총회 제1조(상호) 이 회사는 주식회사 세토피아라 한다 영문으로는 Setopia Co,Ltd라 표기 한다 제4조(공고방법) 본 회사의 공고는 회사의 인터넷 홈페이지(wwwse-topiacom)에 한다 다만, 전산장 애 또는 그 밖의 부득이한 사유로 회사의 인터넷 홈페이지에 공고를 할 수 없는 때에는 서울특별시에서 발행되는 매일경제신문(합병 또는 개칭이 있는 경우 그 승계 신문)에 한다 -회사의 경영목적 및 \n",
      "\n",
      "source : [세토피아][정정]반기보고서(2025.09.09)_chunk_embedding.json, page : 129, \n",
      " content : 5 재무제표 주석 1 회사의 개요 주식회사 세토피아(이하 \"당사\"라 함)는 보안 솔루션 관련 소프트웨어 설계ㆍ개발 및 판매와 컨설팅 등을 사업목적으로 하여 1995년 10월에 설립되었으며, 서울시 강남구삼성로 81길 35, 3층에 본사를 두고 있습니다 당사는 2022년 8월 1일자 주주총회 결의에 의거 주식회 사 마이더스AI에서 주식회사 세토피아로 상호를 변경하였으며, 2023년 1월 2일자로 종속회 사인 주식회사 제이슨앤컴퍼니를 흡수합병하고  \n",
      "\n",
      "\n"
     ]
    }
   ],
   "source": [
    "print(retrived_data)"
   ]
  }
 ],
 "metadata": {
  "kernelspec": {
   "display_name": "exaone",
   "language": "python",
   "name": "python3"
  },
  "language_info": {
   "codemirror_mode": {
    "name": "ipython",
    "version": 3
   },
   "file_extension": ".py",
   "mimetype": "text/x-python",
   "name": "python",
   "nbconvert_exporter": "python",
   "pygments_lexer": "ipython3",
   "version": "3.11.13"
  }
 },
 "nbformat": 4,
 "nbformat_minor": 5
}
