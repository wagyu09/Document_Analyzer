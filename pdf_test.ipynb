{
 "cells": [
  {
   "cell_type": "code",
   "execution_count": 17,
   "id": "80ded517",
   "metadata": {},
   "outputs": [],
   "source": [
    "import re\n",
    "def clean_text(text):\n",
    "    text = re.sub(r'\\s+', ' ', text)\n",
    "    \n",
    "    return text.strip()\n"
   ]
  },
  {
   "cell_type": "code",
   "execution_count": 21,
   "id": "1af5aefb",
   "metadata": {},
   "outputs": [],
   "source": [
    "import pymupdf\n",
    "import os \n",
    "import json\n",
    "\n",
    "files = os.listdir('/home/wagyu0923/project/pdf_files')\n",
    "for file in files:\n",
    "    if file.endswith('.pdf'):\n",
    "        pdf_path = f'/home/wagyu0923/project/pdf_files/{file}'\n",
    "        doc = pymupdf.open(pdf_path)\n",
    "\n",
    "        full_text = []\n",
    "\n",
    "        for page ,content in enumerate(doc,start=1):\n",
    "            text = content.get_text()\n",
    "            cleaned_text = clean_text(text)\n",
    "            full_text.append({'page' : page, 'content' : cleaned_text})\n",
    "\n",
    "\n",
    "        file_name = os.path.basename(pdf_path)\n",
    "        file_name = os.path.splitext(file_name)[0]\n",
    "\n",
    "        json_path = f'/home/wagyu0923/project/Json_files/{file_name}.json'\n",
    "        with open(json_path, 'w', encoding='utf-8') as f:\n",
    "            json.dump(full_text, f,ensure_ascii=False,indent=4)"
   ]
  },
  {
   "cell_type": "code",
   "execution_count": null,
   "id": "34e76949",
   "metadata": {},
   "outputs": [],
   "source": [
    "doc = pymupdf.open(pdf_path)\n",
    "\n",
    "full_text = []\n",
    "\n",
    "for page ,content in enumerate(doc,start=1):\n",
    "    text = content.get_text()\n",
    "    cleaned_text = clean_text(text)\n",
    "    full_text.append({'page' : page, 'content' : cleaned_text})\n",
    "\n",
    "\n",
    "file_name = os.path.basename(pdf_path)\n",
    "file_name = os.path.splitext(file_name)[0]\n",
    "\n",
    "json_path = f'/home/wagyu0923/project/{file_name}.json'\n",
    "with open(json_path, 'w', encoding='utf-8') as f:\n",
    "    json.dump(full_text, f,ensure_ascii=False,indent=4)"
   ]
  }
 ],
 "metadata": {
  "kernelspec": {
   "display_name": "exaone",
   "language": "python",
   "name": "python3"
  },
  "language_info": {
   "codemirror_mode": {
    "name": "ipython",
    "version": 3
   },
   "file_extension": ".py",
   "mimetype": "text/x-python",
   "name": "python",
   "nbconvert_exporter": "python",
   "pygments_lexer": "ipython3",
   "version": "3.11.13"
  }
 },
 "nbformat": 4,
 "nbformat_minor": 5
}
