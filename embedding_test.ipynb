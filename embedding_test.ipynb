{
 "cells": [
  {
   "cell_type": "code",
   "execution_count": 1,
   "id": "690f0e04",
   "metadata": {},
   "outputs": [
    {
     "name": "stderr",
     "output_type": "stream",
     "text": [
      "/home/wagyu0923/miniconda3/envs/exaone/lib/python3.11/site-packages/tqdm/auto.py:21: TqdmWarning: IProgress not found. Please update jupyter and ipywidgets. See https://ipywidgets.readthedocs.io/en/stable/user_install.html\n",
      "  from .autonotebook import tqdm as notebook_tqdm\n"
     ]
    }
   ],
   "source": [
    "from sentence_transformers import SentenceTransformer\n",
    "\n",
    "model = SentenceTransformer('intfloat/multilingual-e5-large-instruct')\n",
    "\n"
   ]
  },
  {
   "cell_type": "code",
   "execution_count": null,
   "id": "bf58abb5",
   "metadata": {},
   "outputs": [],
   "source": [
    "import os \n",
    "import json\n",
    "\n",
    "\n",
    "files = os.listdir('/home/wagyu0923/project/Document_Analyzer/chunk_files')\n",
    "\n",
    "for file in files:\n",
    "    with open (f'/home/wagyu0923/project/Document_Analyzer/chunk_files/{file}','r') as f:\n",
    "        chunk_file = json.load(f)\n",
    "\n",
    "    chunk_text = [text['chunk'] for text in chunk_file]\n",
    "\n",
    "    embedding = model.encode(chunk_text, convert_to_tensor=True)\n",
    "    embedding = embedding.tolist()\n",
    "\n",
    "    embedded_text = []\n",
    "    for idx, i in enumerate(chunk_file):\n",
    "        i['embedding'] = embedding[idx]\n",
    "        embedded_text.append(i)\n",
    "    \n",
    "    file_name = os.path.basename(file)\n",
    "    file_name = os.path.splitext(file_name)[0]\n",
    "    \n",
    "    chunk_path = f'/home/wagyu0923/project/Document_Analyzer/embedded_files/{file_name}_embedding.json'\n",
    "\n",
    "    with open(chunk_path, 'w', encoding='utf-8') as f:\n",
    "        json.dump(embedded_text, f,ensure_ascii=False,indent=4)\n"
   ]
  },
  {
   "cell_type": "code",
   "execution_count": null,
   "id": "3144e2d7",
   "metadata": {},
   "outputs": [],
   "source": [
    "\n",
    "\n"
   ]
  },
  {
   "cell_type": "code",
   "execution_count": null,
   "id": "403f3f58",
   "metadata": {},
   "outputs": [],
   "source": []
  }
 ],
 "metadata": {
  "kernelspec": {
   "display_name": "exaone",
   "language": "python",
   "name": "python3"
  },
  "language_info": {
   "codemirror_mode": {
    "name": "ipython",
    "version": 3
   },
   "file_extension": ".py",
   "mimetype": "text/x-python",
   "name": "python",
   "nbconvert_exporter": "python",
   "pygments_lexer": "ipython3",
   "version": "3.11.13"
  }
 },
 "nbformat": 4,
 "nbformat_minor": 5
}
