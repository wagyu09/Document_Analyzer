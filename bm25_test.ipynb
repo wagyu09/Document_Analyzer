{
 "cells": [
  {
   "cell_type": "code",
   "execution_count": null,
   "id": "e4074b36",
   "metadata": {},
   "outputs": [],
   "source": [
    "from konlpy.tag import Mecab\n",
    "import os\n",
    "import json\n",
    "\n",
    "\n",
    "dicpath = \"/home/wagyu0923/miniconda3/envs/exaone/lib/mecab/dic/mecab-ko-dic\"\n",
    "m = Mecab(dicpath=dicpath)\n",
    "\n",
    "files = os.listdir('/home/wagyu0923/project/Document_Analyzer/chunk_files')\n",
    "\n",
    "for file in files:\n",
    "    seperated_file = []\n",
    "    with open (f'/home/wagyu0923/project/Document_Analyzer/chunk_files/{file}','r') as f:\n",
    "        chunk_file = json.load(f)\n",
    "        chunk_text = [text['chunk'] for text in chunk_file]\n",
    "        for idx, i in enumerate(chunk_file):\n",
    "            seperated_text = m.morphs(chunk_text[idx])\n",
    "            i['seperated_text'] = seperated_text\n",
    "            seperated_file.append(i)\n",
    "    \n",
    "    file_name = os.path.basename(file)\n",
    "    file_name = os.path.splitext(file_name)[0]\n",
    "    \n",
    "    chunk_path = f'/home/wagyu0923/project/Document_Analyzer/seperated_files/{file_name}_seperated.json'\n",
    "\n",
    "    with open(chunk_path, 'w', encoding='utf-8') as f:\n",
    "        json.dump(seperated_file, f,ensure_ascii=False,indent=4)\n",
    "        "
   ]
  },
  {
   "cell_type": "code",
   "execution_count": null,
   "id": "96fd26ae",
   "metadata": {},
   "outputs": [],
   "source": []
  }
 ],
 "metadata": {
  "kernelspec": {
   "display_name": "exaone",
   "language": "python",
   "name": "python3"
  },
  "language_info": {
   "codemirror_mode": {
    "name": "ipython",
    "version": 3
   },
   "file_extension": ".py",
   "mimetype": "text/x-python",
   "name": "python",
   "nbconvert_exporter": "python",
   "pygments_lexer": "ipython3",
   "version": "3.11.13"
  }
 },
 "nbformat": 4,
 "nbformat_minor": 5
}
