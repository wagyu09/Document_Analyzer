{
 "cells": [
  {
   "cell_type": "code",
   "execution_count": null,
   "id": "62329a48",
   "metadata": {},
   "outputs": [
    {
     "name": "stderr",
     "output_type": "stream",
     "text": [
      "/home/wagyu0923/miniconda3/envs/exaone/lib/python3.11/site-packages/pecab/_tokenizer.py:265: RuntimeWarning: overflow encountered in scalar add\n",
      "  from_pos_data.costs[idx]\n",
      "/home/wagyu0923/miniconda3/envs/exaone/lib/python3.11/site-packages/pecab/_tokenizer.py:274: RuntimeWarning: overflow encountered in scalar add\n",
      "  least_cost += word_cost\n",
      "Exception ignored in: <bound method IPythonKernel._clean_thread_parent_frames of <ipykernel.ipkernel.IPythonKernel object at 0x7310a759f190>>\n",
      "Traceback (most recent call last):\n",
      "  File \"/home/wagyu0923/miniconda3/envs/exaone/lib/python3.11/site-packages/ipykernel/ipkernel.py\", line 781, in _clean_thread_parent_frames\n",
      "    def _clean_thread_parent_frames(\n",
      "\n",
      "KeyboardInterrupt: \n"
     ]
    }
   ],
   "source": [
    "from kss import split_sentences\n",
    "import json\n",
    "\n",
    "\n",
    "with open ('/home/wagyu0923/project/Document_Analyzer/Json_files/[세토피아][정정]반기보고서(2025.09.09).json','r') as f:\n",
    "    json_data = json.load(f)\n",
    "\n",
    "\n",
    "chunk_size = 700\n",
    "overlap_size = 100\n",
    "\n",
    "for pages in json_data:\n",
    "    for page,content in pages.items():\n",
    "        sentences = \n",
    "\n",
    "\n",
    "\n"
   ]
  },
  {
   "cell_type": "code",
   "execution_count": 17,
   "id": "d0791d36",
   "metadata": {},
   "outputs": [
    {
     "name": "stderr",
     "output_type": "stream",
     "text": [
      "[Kss]: Because there's no supported C++ morpheme analyzer, Kss will take pecab as a backend. :D\n",
      "For your information, Kss also supports mecab backend.\n",
      "We recommend you to install mecab or konlpy.tag.Mecab for faster execution of Kss.\n",
      "Please refer to following web sites for details:\n",
      "- mecab: https://github.com/hyunwoongko/python-mecab-kor\n",
      "- konlpy.tag.Mecab: https://konlpy.org/en/latest/api/konlpy.tag/#mecab-class\n",
      "\n",
      "/home/wagyu0923/miniconda3/envs/exaone/lib/python3.11/site-packages/pecab/_tokenizer.py:265: RuntimeWarning: overflow encountered in scalar add\n",
      "  from_pos_data.costs[idx]\n",
      "/home/wagyu0923/miniconda3/envs/exaone/lib/python3.11/site-packages/pecab/_tokenizer.py:274: RuntimeWarning: overflow encountered in scalar add\n",
      "  least_cost += word_cost\n"
     ]
    },
    {
     "data": {
      "text/plain": [
       "['서 안전하다고 할 수는 없습니다.',\n",
       " '또한, 전자담배의 광고와 마케팅은 인터넷과 소셜 미디어를 통해 빠르게 성장하고 있어 청소년이나 비흡연자가 쉽게 접근할 수 있는 문제도 있습니다.',\n",
       " '전자담배는 담배와 유사한 제품으로서 담배사업법과 국민건강증진법에 따라 판매, 광고, 판 촉, 과세, 이용 등의 규제를 받고 있습니다.',\n",
       " '하지만 전자담배의 종류와 원료가 다양하고 새로 운 제품이 계속 출시되는 등의 문제로 인해 규제의 한계와 미비점이지적되고 있으므로 새로 운 규제가 생겨나 판매에 영향을 줄 수 있다는 위험성이 존재합니다.',\n",
       " '7. 향후 추진계획 시장의 급속한 트렌드 변화와 제품의 리뉴얼 및 업그레이드 주기에 대비하여 판매량과 수익 성이 저조하여 추가 수입은 하지 않았습니다.',\n",
       " '당사는 본 사업에 대해 추가수입에 대한 계획 은 없으며, 이하 본 보고서 내 해당 사업과 관련된 내용에서도 동일합니다.',\n",
       " '8. 미추진 사유 해당사항 없습니다.',\n",
       " '<폐기물 사업> 1. 미추진 사유 당사는 병원에서 발생하는 의료용 폐기물을 처리하고 폐기하는 사업을 진행하고자 사업목 적을 추가하였으나 관련인허가 및 관련규제 등 사업성을 면밀히 검토한 결과 당사의 신규사 업으로는 적합하지 않다고 판단하여 미추진하였습니다.',\n",
       " '<애견사업> 1. 미추진 사유 CBD 애견사료는 CBD 오일을 함유한 애견사료로서, CBD는 대마에서 추출한 천연 성분으로 동물에게 안전하다고 알려져 있습니다.',\n",
       " 'CBD 애견사료는 반려동물의 기분, 수면, 식욕, 통증 완화 등에 긍정적인 영향을 줄 수 있으며, 천연 항염효과도 가지고 있습니다 .',\n",
       " '이러한 장점때문에 당사는 자회사인 Melrose Facility Management, LLC,에서 생산되는 카나비스 추출오일(CBD Oil)을 이용하여 애견사료를 제조, 판매하는 사업을 검토하고 사업 목적을 추가하였습니다.',\n",
       " '그러나 다른 신규사업이 먼저 진행되어 본 사업은 잠정적으로 보류된 상태입니다.',\n",
       " '이에 당사 는 향후 본 사업과 관련한 면밀한 검토를 통해 사업의 진행여부를 최종 결정할 예정입니다.',\n",
       " '전자공시시스템 dart.fss.or.kr Page 46']"
      ]
     },
     "execution_count": 17,
     "metadata": {},
     "output_type": "execute_result"
    }
   ],
   "source": [
    "split_sentences(str(json_data[47]['content']))"
   ]
  }
 ],
 "metadata": {
  "kernelspec": {
   "display_name": "exaone",
   "language": "python",
   "name": "python3"
  },
  "language_info": {
   "codemirror_mode": {
    "name": "ipython",
    "version": 3
   },
   "file_extension": ".py",
   "mimetype": "text/x-python",
   "name": "python",
   "nbconvert_exporter": "python",
   "pygments_lexer": "ipython3",
   "version": "3.11.13"
  }
 },
 "nbformat": 4,
 "nbformat_minor": 5
}
