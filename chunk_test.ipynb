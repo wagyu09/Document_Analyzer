{
 "cells": [
  {
   "cell_type": "code",
   "execution_count": 5,
   "id": "62329a48",
   "metadata": {},
   "outputs": [],
   "source": [
    "import os \n",
    "import json\n",
    "\n",
    "\n",
    "files = os.listdir('/home/wagyu0923/project/Document_Analyzer/Json_files')\n",
    "chunk_size = 250\n",
    "overlap_size = 70\n",
    "\n",
    "\n",
    "for file in files:\n",
    "    with open (f'/home/wagyu0923/project/Document_Analyzer/Json_files/{file}','r') as f:\n",
    "        json_data = json.load(f)\n",
    "\n",
    "    chunked_text_list = []\n",
    "    orphan_chunk = ''\n",
    "\n",
    "    for page_data in json_data:\n",
    "        page_number = page_data['page']\n",
    "        content = page_data['content'] \n",
    "\n",
    "        for i in range(0,len(content), chunk_size-overlap_size):\n",
    "            chunk =  content[i:i+chunk_size]\n",
    "\n",
    "            if len(chunk) <= 70:\n",
    "                orphan_chunk += chunk\n",
    "            \n",
    "            else:\n",
    "                chunk = orphan_chunk + chunk\n",
    "                chunked_text_list.append({'page' : page_number, 'chunk'  : chunk})\n",
    "                orphan_chunk = ''\n",
    "    if orphan_chunk != '':\n",
    "        chunked_text_list.append({'page' : page_number, 'chunk'  : orphan_chunk})\n",
    "\n",
    "    file_name = os.path.basename(file)\n",
    "    file_name = os.path.splitext(file_name)[0]\n",
    "    \n",
    "    chunk_path = f'/home/wagyu0923/project/Document_Analyzer/chunk_files/{file_name}_chunk.json'\n",
    "\n",
    "    with open(chunk_path, 'w', encoding='utf-8') as f:\n",
    "        json.dump(chunked_text_list, f,ensure_ascii=False,indent=4)"
   ]
  }
 ],
 "metadata": {
  "kernelspec": {
   "display_name": "exaone",
   "language": "python",
   "name": "python3"
  },
  "language_info": {
   "codemirror_mode": {
    "name": "ipython",
    "version": 3
   },
   "file_extension": ".py",
   "mimetype": "text/x-python",
   "name": "python",
   "nbconvert_exporter": "python",
   "pygments_lexer": "ipython3",
   "version": "3.11.13"
  }
 },
 "nbformat": 4,
 "nbformat_minor": 5
}
