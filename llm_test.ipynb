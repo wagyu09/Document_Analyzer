{
 "cells": [
  {
   "cell_type": "code",
   "execution_count": null,
   "id": "42a08aee",
   "metadata": {},
   "outputs": [],
   "source": [
    "from vllm import LLM, SamplingParams\n",
    "\n",
    "MODEL = \"Qwen/Qwen2.5-7B-Instruct-AWQ\"\n",
    "\n",
    "llm = LLM(\n",
    "    model=MODEL,\n",
    "    quantization=\"awq_marlin\",   # 50시리즈에서 빠른 경로\n",
    "    dtype=\"float16\",\n",
    "    trust_remote_code=True,\n",
    "    max_model_len=8192,          # 16GB급에서 안전한 길이\n",
    "    gpu_memory_utilization=0.80, # 시작 시 여유 메모리보다 낮게\n",
    "    enforce_eager=True,          # ★ torch.compile / CUDA 그래프 캡처 비활성화\n",
    "    download_dir=None          # HF 캐시를 그대로 사용(중복 다운로드 방지)\n",
    ")\n"
   ]
  },
  {
   "cell_type": "code",
   "execution_count": null,
   "id": "1d0489a6",
   "metadata": {},
   "outputs": [],
   "source": [
    "from transformers import AutoTokenizer \n",
    "tok = AutoTokenizer.from_pretrained(MODEL, trust_remote_code=True)\n",
    "SYSTEM_PROMPT = \"\"\"당신은 사용자의 말을 명확하게 이해하고, 지시에 따라 핵심을 답하는 AI 비서입니다.\n",
    "\n",
    "[규칙]\n",
    "1. 항상 한국어 존댓말로 답하십시오.\n",
    "2. 오직 사용자의 질문이나 명령에 대한 답변만 하십시오.\n",
    "3. 대화 중 사용자가 알려준 정보를 기억하고, 다음 대화에서 자연스럽게 활용하십시오.\n",
    "4. 모르는 정보는 '모르겠습니다.'라고만 답하십시오.\n",
    "\n",
    "\"\"\"\n",
    "\n",
    "from vllm import SamplingParams\n",
    "det_params = SamplingParams(\n",
    "    max_tokens=4096,       \n",
    "    temperature=0.0,      \n",
    "    top_p=1.0,\n",
    "    top_k=-1,\n",
    "    repetition_penalty=1.1,  \n",
    ")\n",
    "\n",
    "import re \n",
    "\n",
    "history = [{\"role\": \"system\", \"content\": SYSTEM_PROMPT}]\n",
    "\n",
    "def chat(user_text: str) -> str:\n",
    "    history.append({\"role\": \"user\", \"content\": user_text})\n",
    "    prompt = tok.apply_chat_template(history, tokenize=False, add_generation_prompt=True)\n",
    "    \n",
    "    out = llm.generate([prompt], det_params)[0].outputs[0].text\n",
    "    \n",
    "    history.append({\"role\": \"assistant\", \"content\": out})\n",
    "\n",
    "    MAX_TURNS = 12\n",
    "    if len(history) > 1 + MAX_TURNS * 2:\n",
    "        history[:] = [history[0]] + history[-MAX_TURNS*2:]\n",
    "    return out"
   ]
  },
  {
   "cell_type": "code",
   "execution_count": 9,
   "id": "10058dd1",
   "metadata": {},
   "outputs": [
    {
     "name": "stderr",
     "output_type": "stream",
     "text": [
      "Adding requests: 100%|██████████| 1/1 [00:00<00:00, 964.43it/s]\n",
      "Processed prompts: 100%|██████████| 1/1 [00:00<00:00,  2.30it/s, est. speed input: 731.41 toks/s, output: 57.68 toks/s]"
     ]
    },
    {
     "name": "stdout",
     "output_type": "stream",
     "text": [
      "네, 박규원님이라고 말씀하셨군요. 또 도와드릴 일이 있으신가요?\n"
     ]
    },
    {
     "name": "stderr",
     "output_type": "stream",
     "text": [
      "\n"
     ]
    }
   ],
   "source": [
    "print(chat(input()))"
   ]
  },
  {
   "cell_type": "code",
   "execution_count": 10,
   "id": "13fa1398",
   "metadata": {},
   "outputs": [
    {
     "data": {
      "text/plain": [
       "[{'role': 'system',\n",
       "  'content': \"당신은 사용자의 말을 명확하게 이해하고, 지시에 따라 핵심을 답하는 AI 비서입니다.\\n\\n[규칙]\\n1. 항상 한국어 존댓말로 답하십시오.\\n2. 오직 사용자의 질문이나 명령에 대한 답변만 하십시오.\\n3. 대화 중 사용자가 알려준 정보를 기억하고, 다음 대화에서 자연스럽게 활용하십시오.\\n4. 모르는 정보는 '모르겠습니다.'라고만 답하십시오.\\n\\n\"},\n",
       " {'role': 'user', 'content': '안녕'},\n",
       " {'role': 'assistant', 'content': '안녕하세요. 무엇을 도와드릴까요?'},\n",
       " {'role': 'user', 'content': '너 이름이 뭐야'},\n",
       " {'role': 'assistant', 'content': '나의 이름은 AI 비서입니다. 어떻게 도와드릴 수 있을까요?'},\n",
       " {'role': 'user', 'content': '너의 모델명이 뭐야'},\n",
       " {'role': 'assistant',\n",
       "  'content': '제 모델명은 구글 클라우드 파이토치 모델입니다. 어떻게 더 도와드릴 수 있을까요?'},\n",
       " {'role': 'user', 'content': '내 이름이 뭔지 알아?'},\n",
       " {'role': 'assistant',\n",
       "  'content': '아직 내게 알려주신 적이 없어서 모르겠습니다. 당신의 이름을 말씀해 주실 수 있나요?'},\n",
       " {'role': 'user', 'content': '내 이름은 박규원이야'},\n",
       " {'role': 'assistant', 'content': '안녕하세요, 박규원님. 어떤 도움을 드릴 수 있을까요?'},\n",
       " {'role': 'user', 'content': '내 이름을 말해볼래'},\n",
       " {'role': 'assistant', 'content': '네, 박규원님이라고 말씀하셨군요. 또 도와드릴 일이 있으신가요?'}]"
      ]
     },
     "execution_count": 10,
     "metadata": {},
     "output_type": "execute_result"
    }
   ],
   "source": [
    "history"
   ]
  },
  {
   "cell_type": "code",
   "execution_count": null,
   "id": "ed68472a",
   "metadata": {},
   "outputs": [],
   "source": []
  }
 ],
 "metadata": {
  "kernelspec": {
   "display_name": "exaone",
   "language": "python",
   "name": "python3"
  },
  "language_info": {
   "codemirror_mode": {
    "name": "ipython",
    "version": 3
   },
   "file_extension": ".py",
   "mimetype": "text/x-python",
   "name": "python",
   "nbconvert_exporter": "python",
   "pygments_lexer": "ipython3",
   "version": "3.11.13"
  }
 },
 "nbformat": 4,
 "nbformat_minor": 5
}
