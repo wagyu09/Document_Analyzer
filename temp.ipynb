{
 "cells": [
  {
   "cell_type": "code",
   "execution_count": null,
   "id": "21be066c",
   "metadata": {},
   "outputs": [],
   "source": [
    "from vllm import LLM, SamplingParams\n",
    "\n",
    "MODEL = \"LGAI-EXAONE/EXAONE-Deep-7.8B-AWQ\"\n",
    "\n",
    "llm = LLM(\n",
    "    model=MODEL,\n",
    "    quantization=\"awq_marlin\",   # 50시리즈에서 빠른 경로\n",
    "    dtype=\"float16\",\n",
    "    trust_remote_code=True,\n",
    "    max_model_len=8192,          # 16GB급에서 안전한 길이\n",
    "    gpu_memory_utilization=0.80, # 시작 시 여유 메모리보다 낮게\n",
    "    enforce_eager=True,          # ★ torch.compile / CUDA 그래프 캡처 비활성화\n",
    "    download_dir=None          # HF 캐시를 그대로 사용(중복 다운로드 방지)\n",
    ")"
   ]
  },
  {
   "cell_type": "code",
   "execution_count": null,
   "id": "6162338f",
   "metadata": {},
   "outputs": [],
   "source": [
    "from transformers import AutoTokenizer \n",
    "tok = AutoTokenizer.from_pretrained(MODEL, trust_remote_code=True)\n",
    "\n",
    "SYSTEM_PROMPT = f\"\"\"You are an intelligent assistant helping the users with their questions on company. Strictly Use ONLY the following pieces of context to answer the question at the end. \n",
    "\n",
    "Do not try to make up an answer:\n",
    " - If the answer to the question cannot be determined from the context alone, say \"I cannot determine the answer to that.\"\n",
    " - If the context is empty, just say \"I do not know the answer to that.\"\n",
    " - Answer in Korean\n",
    "CONTEXT: \n",
    "{retrived_data}\n",
    "QUESTION:\n",
    "{query}\n",
    "Helpful Answer:\n",
    "\n",
    "\"\"\"\n",
    "\n",
    "print(SYSTEM_PROMPT)\n",
    "from vllm import SamplingParams\n",
    "det_params = SamplingParams(\n",
    "    max_tokens=8096,       \n",
    "    temperature=0.0,      \n",
    "    top_p=1.0,\n",
    "    top_k=-1,\n",
    "    repetition_penalty=1.1,  \n",
    ")\n",
    "\n",
    "outputs = llm.generate(SYSTEM_PROMPT, sampling_params=det_params)[0].outputs[0].text"
   ]
  },
  {
   "cell_type": "code",
   "execution_count": 4,
   "id": "c87d4766",
   "metadata": {},
   "outputs": [
    {
     "name": "stdout",
     "output_type": "stream",
     "text": [
      "**Fromis 9(포리스 9)**  \n",
      "- **데뷔**: 2019년 6월 20일, 스타쉽(Starship) 소속으로 데뷔.  \n",
      "- **멤버**: 9명(총 9명)으로 구성.  \n",
      "  - **주원** (주원) – 리더, 보컬  \n",
      "  - **지민** (지민) – 보컬  \n",
      "  - **지수** (지수) – 보컬  \n",
      "  - **지현** (지현) – 보컬  \n",
      "  - **지우** (지우) – 보컬  \n",
      "  - **지영** (지영) – 보컬  \n",
      "  - **지현** (지현) – 보컬  \n",
      "  - **지민** (지민) – 보컬  \n",
      "  - **지수** (지수) – 보컬  \n",
      "  *(※ 실제 멤버 명단은 스타쉽 공식 홈페이지에서 확인하세요.)*  \n",
      "\n",
      "- **음악 스타일**: 주로 팝·댄스 장르를 기반으로, 밝고 에너지 넘치는 퍼포먼스가 특징.  \n",
      "- **주요 활동**  \n",
      "  - **데뷔곡**: “Love Shhh” (2019)  \n",
      "  - **대표곡**: “Love Shhh”, “Love Letter”, “Love Letter (Remix)”, “Love Letter (Remix)”, “Love Letter (Remix)”, “Love Letter (Remix)”, “Love Letter (Remix)”, “Love Letter (Remix)”, “Love Letter (Remix)”, “Love Letter (Remix)”, “Love Letter (Remix)”, “Love Letter (Remix)”, “Love Letter (Remix)”, “Love Letter (Remix)”, “Love Letter (Remix)”, “Love Letter (Remix)”, “Love Letter (Remix)”, “Love Letter (Remix)”, “Love Letter (Remix)”, “Love Letter (Remix)”, “Love Letter (Remix)”, “Love Letter (Remix)”, “Love Letter (Remix)”, “Love Letter (Remix)”, “Love Letter (Remix)”, “Love Letter (Remix)”, “Love Letter (Remix)”, “Love Letter (Remix)”, “Love Letter (Remix)”, “Love Letter (Remix)”, “Love Letter (Remix)”, “Love Letter (Remix)”, “Love Letter (Remix)”, “Love Letter (Remix)”, “Love Letter (Remix)”, “Love Letter (Remix)”, “Love Letter (Remix)”, “Love Letter (Remix)”, “Love Letter (Remix)”, “Love Letter (Remix)”, “Love Letter (Remix)”, “Love Letter (Remix)”, “Love Letter (Remix)”, “Love Letter (Remix)”, “Love Letter (Remix)”, “Love Letter (Remix)”, “Love Letter (Remix)”, “Love Letter (Remix)”, “Love Letter (Remix)”, “Love Letter (Remix)”, “Love Letter (Remix)”, “Love Letter (Remix)”, “Love Letter (Remix)”, “Love Letter (Remix)”, “Love Letter (Remix)”, “Love Letter (Remix)”, “Love Letter (Remix)”, “Love Letter (Remix)”, “Love Letter (Remix)”, “Love Letter (Remix)”, “Love Letter (Remix)”, “Love Letter (Remix)”, “Love Letter (Remix)”, “Love Letter (Remix)”, “Love Letter (Remix)”, “Love Letter (Remix)”, “Love Letter (Remix)”, “Love Letter (Remix)”, “Love Letter (Remix)”, “Love Letter (Remix)”, “Love Letter (Remix)”, “Love Letter (Remix)”, “Love Letter (Remix)”, “Love Letter (Remix)”, “Love Letter (Remix)”, “Love Letter (Remix)”, “Love Letter (Remix)”, “Love Letter (Remix)”, “Love Letter (Remix)”, “Love Letter (Remix)”, “Love Letter (Remix)”, “Love Letter (Remix)”, “Love Letter (Remix)”, “Love Letter (Remix)”, “Love Letter (Remix)”, “Love Letter (Remix)”, “Love Letter (Remix)”, “Love Letter (Remix)”, “Love Letter (Remix)”, “Love Letter (Remix)”, “Love Letter (Remix)”, “Love Letter (Remix)”, “Love Letter (Remix)”, “Love Letter (Remix)”, “Love Letter (Remix)”, “Love Letter (Remix)”, “Love Letter (Remix)”, “Love Letter (Remix)”, “Love Letter (Remix)”, “Love Letter (Remix)”, “Love Letter (Remix)”, “Love Letter (Remix)”, “Love Letter (Remix)”, “Love Letter (Remix)”, “Love Letter (Remix)”, “Love Letter (Remix)”, “Love Letter (Remix)”, “Love Letter (Remix)”, “Love Letter (Remix)”, “Love Letter (Remix)”, “Love Letter (Remix)”, “Love Letter (Remix)”, “Love Letter (Remix)”, “Love Letter (Remix)”, “Love Letter (Remix)”, “Love Letter (Remix)”, “Love Letter (Remix)”, “Love Letter (Remix)”, “Love Letter (Remix)”, “Love Letter (Remix)”, “Love Letter (Remix)”, “Love Letter (Remix)”, “Love Letter (Remix)”, “Love Letter (Remix)”, “Love Letter (Remix)”, “Love Letter (Remix)”, “Love Letter (Remix)”, “Love Letter (Remix)”, “Love Letter (Remix)”, “Love Letter (Remix)”, “Love Letter (Remix)”, “Love Letter (Remix)”, “Love Letter (Remix)”, “Love Letter (Remix)”, “Love Letter (Remix)”, “Love Letter (Remix)”, “Love Letter (Remix)”, “Love Letter (Remix)”, “Love Letter (Remix)”, “Love Letter (Remix)”, “Love Letter (Remix)”, “Love Letter (Remix)”, “Love Letter (Remix)”, “Love Letter (Remix)”, “Love Letter (Remix)”, “Love Letter (Remix)”, “Love Letter (Remix)”, “Love Letter (Remix)”, “Love Letter (Remix)”, “Love Letter (Remix)”, “Love Letter (Remix)”, “Love Letter (Remix)”, “Love Letter (Remix)”, “Love Letter (Remix)”, “Love Letter (Remix)”, “Love Letter (Remix)”, “Love Letter (Remix)”, “Love Letter (Remix)”, “Love Letter (Remix)”, “Love Letter (Remix)”, “Love Letter (Remix)”, “Love Letter (Remix)”, “Love Letter (Remix)”, “Love Letter (Remix)”, “Love Letter (Remix)”, “Love Letter (Remix)”, “Love Letter (Remix)”, “Love Letter (Remix)”, “Love Letter (Remix)”, “Love Letter (Remix)”, “Love Letter (Remix)”, “Love Letter (Remix)”, “Love Letter (Remix)”, “Love Letter (Remix)”, “Love Letter (Remix)”, “Love Letter (Remix)”, “Love Letter (Remix)”, “Love Letter (Remix)”, “Love Letter (Remix)”, “Love Letter (Remix)”, “Love Letter (Remix)”, “Love Letter (Remix)”, “Love Letter (Remix)”, “Love Letter (Remix)”, “Love Letter (Remix)”, “Love Letter (Remix)”, “Love Letter (Remix)”, “Love Letter (Remix)”, “Love Letter (Remix)”, “Love Letter (Remix)”, “Love Letter (Remix)”, “Love Letter (Remix)”, “Love Letter (Remix)”, “Love Letter (Remix)”, “Love Letter (Remix)”, “Love Letter (Remix)”, “Love Letter (Remix)”, “Love Letter (Remix)”, “Love Letter (Remix)”, “Love Letter (Remix)”, “Love Letter (Remix)”, “Love Letter (Remix)”, “Love Letter (Remix)”, “Love Letter (Remix)”, “Love Letter (Remix)”, “Love Letter (Remix)”, “Love Letter (Remix)”, “Love Letter (Remix)”, “Love Letter (Remix)”, “Love Letter (Remix)”, “Love Letter (Remix)”, “Love Letter (Remix)”, “Love Letter (Remix)”, “Love Letter (Remix)”, “Love Letter (Remix)”, “Love Letter (Remix)”, “Love Letter (Remix)”, “Love Letter (Remix)”, “Love Letter (Remix)”, “Love Letter (Remix)”, “Love Letter (Remix)”, “Love Letter (Remix)”, “Love Letter (Remix)”, “Love Letter (Remix)”, “Love Letter (Remix)”, “Love Letter (Remix)”, “Love Letter (Remix)”, “Love Letter (Remix)”, “Love Letter (Remix)”, “Love Letter (Remix)”, “Love Letter (Remix)”, “Love Letter (Remix)”, “Love Letter (Remix)”, “Love Letter (Remix)”, “Love Letter (Remix)”, “Love Letter (Remix)”, “Love Letter (Remix)”, “Love Letter (Remix)”, “Love Letter (Remix)”, “Love Letter (Remix)”, “Love Letter (Remix)”, “Love Letter (Remix)”, “Love Letter (Remix)”, “Love Letter (Remix)”, “Love Letter (Remix)”, “Love Letter (Remix)”, “Love Letter (Remix)”, “Love Letter (Remix)”, “Love Letter (Remix)”, “Love Letter (Remix)”, “Love Letter (Remix)”, “Love Letter (Remix)”, “Love Letter (Remix)”, “Love Letter (Remix)”, “Love Letter (Remix)”, “Love Letter (Remix)”, “Love Letter (Remix)”, “Love Letter (Remix)”, “Love Letter (Remix)”, “Love Letter (Remix)”, “Love Letter (Remix)”, “Love Letter (Remix)”, “Love Letter (Remix)”, “Love Letter (Remix)”, “Love Letter (Remix)”, “Love Letter (Remix)”, “Love Letter (Remix)”, “Love Letter (Remix)”, “Love Letter (Remix)”, “Love Letter (Remix)”, “Love Letter (Remix)”, “Love Letter (Remix)”, “Love Letter (Remix)”, “Love Letter (Remix)”, “Love Letter (Remix)”, “Love Letter (Remix)”, “Love Letter (Remix)”, “Love Letter (Remix)”, “Love Letter (Remix)”, “Love Letter (Remix)”, “Love Letter (Remix)”, “Love Letter (Remix)”, “Love Letter (Remix)”, “Love Letter (Remix)”, “Love Letter (Remix)”, “Love Letter (Remix)”, “Love Letter (Remix)”, “Love Letter (Remix)”, “Love Letter (Remix)”, “Love Letter (Remix)”, “Love Letter (Remix)”, “Love Letter (Remix)”, “Love Letter (Remix)”, “Love Letter (Remix)”, “Love Letter (Remix)”, “Love Letter (Remix)”, “Love Letter (Remix)”, “Love Letter (Remix)”, “Love Letter (Remix)”, “Love Letter (Remix)”, “Love Letter (Remix)”, “Love Letter (Remix)”, “Love Letter (Remix)”, “Love Letter (Remix)”, “Love Letter (Remix)”, “Love Letter (Remix)”, “Love Letter (Remix)”, “Love Letter (Remix)”, “Love Letter (Remix)”, “Love Letter (Remix)”, “Love Letter (Remix)”, “Love Letter (Remix)”, “Love Letter (Remix)”, “Love Letter (Remix)”, “Love Letter (Remix)”, “Love Letter (Remix)”, “Love Letter (Remix)”, “Love Letter (Remix)”, “Love Letter (Remix)”, “Love Letter (Remix)”, “Love Letter (Remix)”, “Love Letter (Remix)”, “Love Letter (Remix)”, “Love Letter (Remix)”, “Love Letter (Remix)”, “Love Letter (Remix)”, “Love Letter (Remix)”, “Love Letter (Remix)”, “Love Letter (Remix)”, “Love Letter (Remix)”, “Love Letter (Remix)”, “Love Letter (Remix)”, “Love Letter (Remix)”, “Love Letter (Remix)”, “Love Letter (Remix)”, “Love Letter (Remix)”, “Love Letter (Remix)”, “Love Letter (Remix)”, “Love Letter (Remix)”, “Love Letter (Remix)”, “Love Letter (Remix)”, “Love Letter (Remix)”, “Love Letter (Remix)”, “Love Letter (Remix)”, “Love Letter (Remix)”, “Love Letter (Remix)”, “Love Letter (Remix)”, “Love Letter (Remix)”, “Love Letter (Remix)”, “Love Letter (Remix)”, “Love Letter (Remix)”, “Love Letter (Remix)”, “Love Letter (Remix)”, “Love Letter (Remix)”, “Love Letter (Remix)”, “Love Letter (Remix)”, “Love Letter (Remix)”, “Love Letter (Remix)”, “Love… (stop)\n"
     ]
    }
   ],
   "source": [
    "import ollama\n",
    "OLLAMA_MODEL = 'hf.co/unsloth/gpt-oss-20b-GGUF:Q4_K_M'\n",
    "\n",
    "SYSTEM_PROMPT = \"\"\"you're a kind ai assistant. Answer correctly in Korean. Do not make hallucination. Do not make overcomplexed answer\"\"\"\n",
    "\n",
    "response = ollama.chat(\n",
    "    model=OLLAMA_MODEL,\n",
    "    messages=[\n",
    "        {'role': 'system', 'content': SYSTEM_PROMPT},\n",
    "        {'role': 'user', 'content' : input()}\n",
    "    ],\n",
    "    options={\n",
    "        'temperature': 0.0,\n",
    "        'repeat_penalty': 1.2,\n",
    "        'repeat_last_n': 256,\n",
    "        'top_p': 0.9,\n",
    "        'seed': 42,\n",
    "    }\n",
    ")\n",
    "outputs = response['message']['content']\n",
    "print(outputs)"
   ]
  }
 ],
 "metadata": {
  "kernelspec": {
   "display_name": "exaone",
   "language": "python",
   "name": "python3"
  },
  "language_info": {
   "codemirror_mode": {
    "name": "ipython",
    "version": 3
   },
   "file_extension": ".py",
   "mimetype": "text/x-python",
   "name": "python",
   "nbconvert_exporter": "python",
   "pygments_lexer": "ipython3",
   "version": "3.11.13"
  }
 },
 "nbformat": 4,
 "nbformat_minor": 5
}
